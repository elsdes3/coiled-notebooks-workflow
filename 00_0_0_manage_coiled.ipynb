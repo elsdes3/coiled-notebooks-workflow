{
 "cells": [
  {
   "cell_type": "markdown",
   "id": "b362d8d5-99c1-4ec9-aa7e-7362efe917a6",
   "metadata": {},
   "source": [
    "# Manage Coiled Resources"
   ]
  },
  {
   "cell_type": "code",
   "execution_count": null,
   "id": "fe46506b-8e80-4732-a190-adfce44b00ad",
   "metadata": {},
   "outputs": [],
   "source": [
    "import json\n",
    "import os\n",
    "import sys\n",
    "from typing import Dict, List, Union\n",
    "\n",
    "import boto3\n",
    "import coiled\n",
    "import polars as pl"
   ]
  },
  {
   "cell_type": "code",
   "execution_count": null,
   "id": "988bc530-9302-476a-9b91-58b912b37892",
   "metadata": {},
   "outputs": [],
   "source": [
    "PROJ_ROOT = os.path.join(os.getcwd())"
   ]
  },
  {
   "cell_type": "code",
   "execution_count": null,
   "id": "3b01423a-52ba-452e-8870-4d9af09ddd80",
   "metadata": {},
   "outputs": [],
   "source": [
    "_ = pl.Config.set_tbl_cols(None)\n",
    "_ = pl.Config.set_fmt_str_lengths(1_000)\n",
    "_ = pl.Config.set_tbl_width_chars(1_000)\n",
    "_ = pl.Config.set_tbl_rows(None)"
   ]
  },
  {
   "cell_type": "markdown",
   "id": "856eccd0-3f68-476e-8907-7ad1ba20dc7c",
   "metadata": {},
   "source": [
    "## About"
   ]
  },
  {
   "cell_type": "markdown",
   "id": "da39806d-84c9-4dde-b430-57e3efe7165c",
   "metadata": {},
   "source": [
    "Perform the following\n",
    "\n",
    "1. Set up Coiled cloud provider (AWS)\n",
    "   - create the following IAM entities\n",
    "     - role\n",
    "     - policy for EC2 instance\n",
    "     - ongoing policy for IAM user\n",
    "     - setup policy for IAM user\n",
    "     - user\n",
    "   - attach IAM policies to IAM role\n",
    "     - policy for EC2 instance\n",
    "     - policy to access S3 bucket\n",
    "   - attach IAM policies to IAM user\n",
    "     - ongoing policy\n",
    "     - setup policy\n",
    "   - create access key for IAM user\n",
    "2. manage Coiled software environment\n",
    "   - create\n",
    "   - delete\n",
    "   - list"
   ]
  },
  {
   "cell_type": "markdown",
   "id": "0282a13b-5221-485c-af67-565ca1e12ead",
   "metadata": {},
   "source": [
    "## User Inputs"
   ]
  },
  {
   "cell_type": "code",
   "execution_count": null,
   "id": "bba74dab-27c7-43ba-b8a2-909573968809",
   "metadata": {
    "editable": true,
    "slideshow": {
     "slide_type": ""
    },
    "tags": [
     "parameters"
    ]
   },
   "outputs": [],
   "source": [
    "coiled_account_name = \"elsdes3\"\n",
    "coiled_se_name = \"my-pip-env\"\n",
    "aws_region = 'us-east-2'\n",
    "s3_bucket_name = 'oss-shared-scratchp'"
   ]
  },
  {
   "cell_type": "code",
   "execution_count": null,
   "id": "12581974-0806-4175-94f3-da53b3b80514",
   "metadata": {},
   "outputs": [],
   "source": [
    "nb_dir_name = [dir_name for dir_name in os.listdir(os.path.join(PROJ_ROOT, 'code')) if dir_name != 'src'][0]\n",
    "nb_dir_path = os.path.join(PROJ_ROOT, 'code', nb_dir_name)"
   ]
  },
  {
   "cell_type": "code",
   "execution_count": null,
   "id": "29f0e3ff-476d-4e56-b109-6f4c9a0b61d5",
   "metadata": {},
   "outputs": [],
   "source": [
    "coiled_iam_user = {\n",
    "    'user_path': \"/\",\n",
    "    'user_name': 'demo',\n",
    "}\n",
    "coiled_iam_role = {\n",
    "    \"role_path\": \"/\",\n",
    "    \"role_name\": \"coiled-elsdes3\",\n",
    "    \"role_trust_policy\": json.dumps(\n",
    "        {\n",
    "            \"Version\": \"2012-10-17\",\n",
    "            \"Statement\": [\n",
    "                {\n",
    "                    \"Sid\": \"\",\n",
    "                    \"Effect\": \"Allow\",\n",
    "                    \"Principal\": {\n",
    "                        \"Service\": \"ec2.amazonaws.com\"\n",
    "                    },\n",
    "                    \"Action\": \"sts:AssumeRole\"\n",
    "                }\n",
    "            ]\n",
    "        }\n",
    "    ),\n",
    "    \"role_description\": \"A role created by Coiled to be attached to EC2 instances.\"\n",
    "}\n",
    "coiled_iam_instance_policy = {\n",
    "    'policy_name': \"CoiledInstancePolicy\",\n",
    "    'policy_description': \"Policy to allow coiled managed instances to submit logs to cloudwatch\",\n",
    "    'policy_tags': [{\"Key\": \"Name\", \"Value\": 'coiled-instance-policy'}],\n",
    "    'policy_document': json.dumps(\n",
    "        {\n",
    "            \"Version\": \"2012-10-17\",\n",
    "                \"Statement\": [\n",
    "                    {\n",
    "                        \"Sid\": \"CoiledEC2Policy\",\n",
    "                        \"Effect\": \"Allow\",\n",
    "                        \"Action\": [\n",
    "                            \"logs:CreateLogGroup\",\n",
    "                            \"logs:CreateLogStream\",\n",
    "                            \"logs:PutLogEvents\"\n",
    "                        ],\n",
    "                        \"Resource\": \"*\"\n",
    "                    }\n",
    "                ]\n",
    "        }\n",
    "    )\n",
    "}\n",
    "coiled_iam_setup_policy = {\n",
    "    'policy_name': \"demo-setup\",\n",
    "    'policy_description': \"Coiled setup IAM policy\",\n",
    "    'policy_tags': [{\"Key\": \"Name\", \"Value\": 'coiled-setup-iam-policy'}],\n",
    "    \"policy_document\": json.dumps(\n",
    "        {\n",
    "            \"Statement\": [\n",
    "                {\n",
    "                    \"Sid\": \"Setup\",\n",
    "                    \"Effect\": \"Allow\",\n",
    "                    \"Resource\": \"*\",\n",
    "                    \"Action\": [\n",
    "                        \"ec2:AssociateRouteTable\",\n",
    "                        \"ec2:AttachInternetGateway\",\n",
    "                        \"ec2:CreateInternetGateway\",\n",
    "                        \"ec2:CreateRoute\",\n",
    "                        \"ec2:CreateRouteTable\",\n",
    "                        \"ec2:CreateSubnet\",\n",
    "                        \"ec2:CreateVpc\",\n",
    "                        \"ec2:DeleteInternetGateway\",\n",
    "                        \"ec2:DeleteRoute\",\n",
    "                        \"ec2:DeleteRouteTable\",\n",
    "                        \"ec2:DeleteSubnet\",\n",
    "                        \"ec2:DeleteVpc\",\n",
    "                        \"ec2:DescribeInternetGateways\",\n",
    "                        \"ec2:DetachInternetGateway\",\n",
    "                        \"ec2:DisassociateRouteTable\",\n",
    "                        \"ec2:ModifySubnetAttribute\",\n",
    "                        \"ec2:ModifyVpcAttribute\",\n",
    "                        \"iam:AddRoleToInstanceProfile\",\n",
    "                        \"iam:AttachRolePolicy\",\n",
    "                        \"iam:CreateRole\",\n",
    "                        \"iam:CreatePolicy\",\n",
    "                        \"iam:CreateServiceLinkedRole\",\n",
    "                        \"iam:CreateInstanceProfile\",\n",
    "                        \"iam:DeleteRole\",\n",
    "                        \"iam:ListPolicies\",\n",
    "                        \"iam:ListInstanceProfiles\",\n",
    "                        \"iam:ListAttachedRolePolicies\",\n",
    "                        \"iam:TagInstanceProfile\",\n",
    "                        \"iam:TagPolicy\",\n",
    "                        \"iam:TagRole\"\n",
    "                    ]\n",
    "                }\n",
    "            ],\n",
    "            \"Version\": \"2012-10-17\"\n",
    "        }\n",
    "    )\n",
    "}\n",
    "coiled_iam_ongoing_policy = {\n",
    "    'policy_name': \"demo-ongoing\",\n",
    "    'policy_description': \"Coiled ongoing IAM policy\",\n",
    "    'policy_tags': [{\"Key\": \"Name\", \"Value\": 'coiled-ongoing-iam-policy'}],\n",
    "    \"policy_document\": json.dumps(\n",
    "        {\n",
    "            \"Statement\": [\n",
    "                {\n",
    "                    \"Sid\": \"Ongoing\",\n",
    "                    \"Effect\": \"Allow\",\n",
    "                    \"Resource\": \"*\",\n",
    "                    \"Action\": [\n",
    "                        \"ec2:AuthorizeSecurityGroupIngress\",\n",
    "                        \"ec2:CreateFleet\",\n",
    "                        \"ec2:CreateLaunchTemplate\",\n",
    "                        \"ec2:CreateLaunchTemplateVersion\",\n",
    "                        \"ec2:CreateRoute\",\n",
    "                        \"ec2:CreateSecurityGroup\",\n",
    "                        \"ec2:CreateTags\",\n",
    "                        \"ec2:DeleteLaunchTemplate\",\n",
    "                        \"ec2:DeleteLaunchTemplateVersions\",\n",
    "                        \"ec2:DeleteSecurityGroup\",\n",
    "                        \"ec2:DescribeAvailabilityZones\",\n",
    "                        \"ec2:DescribeImages\",\n",
    "                        \"ec2:DescribeInstances\",\n",
    "                        \"ec2:DescribeInstanceTypeOfferings\",\n",
    "                        \"ec2:DescribeInstanceTypes\",\n",
    "                        \"ec2:DescribeInternetGateways\",\n",
    "                        \"ec2:DescribeLaunchTemplates\",\n",
    "                        \"ec2:DescribeRegions\",\n",
    "                        \"ec2:DescribeRouteTables\",\n",
    "                        \"ec2:DescribeSecurityGroups\",\n",
    "                        \"ec2:DescribeSubnets\",\n",
    "                        \"ec2:DescribeVpcs\",\n",
    "                        \"ec2:RunInstances\",\n",
    "                        \"ec2:TerminateInstances\",\n",
    "                        \"ecr:BatchCheckLayerAvailability\",\n",
    "                        \"ecr:BatchGetImage\",\n",
    "                        \"ecr:GetAuthorizationToken\",\n",
    "                        \"ecr:GetDownloadUrlForLayer\",\n",
    "                        \"iam:GetInstanceProfile\",\n",
    "                        \"iam:GetRole\",\n",
    "                        \"iam:ListPolicies\",\n",
    "                        \"iam:PassRole\",\n",
    "                        \"iam:TagRole\",\n",
    "                        \"logs:CreateLogGroup\",\n",
    "                        \"logs:CreateLogStream\",\n",
    "                        \"logs:DescribeLogGroups\",\n",
    "                        \"logs:DescribeLogStreams\",\n",
    "                        # \"logs:FilterLogEvents\",\n",
    "                        \"logs:GetLogEvents\",\n",
    "                        \"logs:PutLogEvents\",\n",
    "                        \"logs:PutRetentionPolicy\",\n",
    "                        \"logs:TagLogGroup\",\n",
    "                        \"logs:TagResource\",\n",
    "                        \"sts:GetCallerIdentity\"\n",
    "                    ]\n",
    "                }\n",
    "            ],\n",
    "            \"Version\": \"2012-10-17\"\n",
    "        }\n",
    "    )\n",
    "}"
   ]
  },
  {
   "cell_type": "markdown",
   "id": "1b09b1e0-8157-4f96-8aca-5a4fc4015b38",
   "metadata": {},
   "source": [
    "Define helper functions to manage cloud (AWS) resources"
   ]
  },
  {
   "cell_type": "code",
   "execution_count": null,
   "id": "6330e918-de26-404e-b9cb-cf2483122e85",
   "metadata": {},
   "outputs": [],
   "source": [
    "def create_iam_role(\n",
    "    role_path: str,\n",
    "    role_name: str,\n",
    "    role_description: str,\n",
    "    role_trust_policy: Dict,\n",
    "    aws_region: str,\n",
    ") -> None:\n",
    "    \"\"\"Create IAM Role.\"\"\"\n",
    "    iam_client = boto3.client(\"iam\", region_name=aws_region)\n",
    "    role_creation_response = iam_client.create_role(\n",
    "        Path=role_path,\n",
    "        RoleName=role_name,\n",
    "        AssumeRolePolicyDocument=role_trust_policy,\n",
    "        Description=role_description,\n",
    "        MaxSessionDuration=3600,\n",
    "    )\n",
    "    try:\n",
    "        http_code = role_creation_response[\"ResponseMetadata\"][\n",
    "            \"HTTPStatusCode\"\n",
    "        ]\n",
    "        assert http_code == 200\n",
    "        print(f\"Created IAM role {role_name} successfully\")\n",
    "    except AssertionError as e:\n",
    "        print(\n",
    "            \"Could not create the IAM role \"\n",
    "            f\"{role_name} successfully\\n{str(e)}\"\n",
    "        )\n",
    "\n",
    "\n",
    "def create_iam_policy(\n",
    "    aws_region: str,\n",
    "    policy_name: str,\n",
    "    policy_document: Dict,\n",
    "    policy_description: str,\n",
    "    policy_tags: List[Dict],\n",
    ") -> None:\n",
    "    \"\"\"Create an IAM policy.\"\"\"\n",
    "    iam_client = boto3.client(\"iam\", region_name=aws_region)\n",
    "    policy_creation_response = iam_client.create_policy(\n",
    "        PolicyName=policy_name,\n",
    "        PolicyDocument=policy_document,\n",
    "        Description=policy_description,\n",
    "        Tags=policy_tags,\n",
    "    )\n",
    "    try:\n",
    "        http_code = policy_creation_response[\"ResponseMetadata\"][\n",
    "            \"HTTPStatusCode\"\n",
    "        ]\n",
    "        assert http_code == 200\n",
    "        print(f\"Created IAM policy {policy_name}\")\n",
    "    except AssertionError as e:\n",
    "        print(\n",
    "            \"Could not create IAM policy \"\n",
    "            f\"{policy_name} successfully\\n{str(e)}\"\n",
    "        )\n",
    "\n",
    "\n",
    "def create_iam_user(user_path: str, user_name: str, aws_region: str) -> None:\n",
    "    \"\"\"Create IAM User.\"\"\"\n",
    "    iam_client = boto3.client(\"iam\", region_name=aws_region)\n",
    "    user_creation_response = iam_client.create_user(\n",
    "        Path=user_path,\n",
    "        UserName=user_name,\n",
    "    )\n",
    "    try:\n",
    "        http_code = user_creation_response[\"ResponseMetadata\"][\n",
    "            \"HTTPStatusCode\"\n",
    "        ]\n",
    "        assert http_code == 200\n",
    "        print(f\"Created IAM role {user_name} successfully\")\n",
    "    except AssertionError as e:\n",
    "        print(\n",
    "            \"Could not create the IAM user \"\n",
    "            f\"{user_name} successfully\\n{str(e)}\"\n",
    "        )\n",
    "\n",
    "\n",
    "def attach_iam_policy_to_iam_role(\n",
    "    policy_name: str, iam_role_name: str, aws_region: str, max_items: int=500\n",
    ")  -> None:\n",
    "    \"\"\"Attach an IAM policy to an IAM role.\"\"\"\n",
    "    iam_client = boto3.client(\"iam\", region_name=aws_region)\n",
    "    iam_policy = [\n",
    "        policy\n",
    "        for policy in iam_client.list_policies(\n",
    "            Scope=\"All\", OnlyAttached=False, MaxItems=max_items\n",
    "        )[\"Policies\"]\n",
    "        if policy['PolicyName'] == policy_name\n",
    "    ][0]\n",
    "    \n",
    "    iam_policy_arn = iam_policy['Arn']\n",
    "    policy_attachment_response = iam_client.attach_role_policy(\n",
    "        RoleName=iam_role_name, PolicyArn=iam_policy_arn\n",
    "    )\n",
    "    try:\n",
    "        http_code = policy_attachment_response[\"ResponseMetadata\"][\n",
    "            \"HTTPStatusCode\"\n",
    "        ]\n",
    "        assert http_code == 200\n",
    "        print(\n",
    "            f\"Attached IAM policy {iam_policy_arn} to role {iam_role_name} \"\n",
    "            \"successfully\"\n",
    "        )\n",
    "    except AssertionError as e:\n",
    "        print(\n",
    "            f\"Could not attach IAM policy {iam_policy_arn} to role \"\n",
    "            f\"{iam_role_name} successfully\\n{str(e)}\"\n",
    "        )\n",
    "\n",
    "def attach_iam_policy_to_iam_user(\n",
    "    policy_name: str, iam_user_name: str, aws_region: str, max_items: int=500\n",
    ")  -> None:\n",
    "    \"\"\"Attach an IAM policy to an IAM role.\"\"\"\n",
    "    iam_client = boto3.client(\"iam\", region_name=aws_region)\n",
    "    iam_policy = [\n",
    "        policy\n",
    "        for policy in iam_client.list_policies(\n",
    "            Scope=\"All\", OnlyAttached=False, MaxItems=max_items\n",
    "        )[\"Policies\"]\n",
    "        if policy['PolicyName'] == policy_name\n",
    "    ][0]\n",
    "    \n",
    "    iam_policy_arn = iam_policy['Arn']\n",
    "    policy_attachment_response = iam_client.attach_user_policy(\n",
    "        UserName=iam_user_name, PolicyArn=iam_policy_arn\n",
    "    )\n",
    "    try:\n",
    "        http_code = policy_attachment_response[\"ResponseMetadata\"][\n",
    "            \"HTTPStatusCode\"\n",
    "        ]\n",
    "        assert http_code == 200\n",
    "        print(\n",
    "            f\"Attached IAM policy {iam_policy_arn} to user {iam_user_name} \"\n",
    "            \"successfully\"\n",
    "        )\n",
    "    except AssertionError as e:\n",
    "        print(\n",
    "            f\"Could not attach IAM policy {iam_policy_arn} to user \"\n",
    "            f\"{iam_user_name} successfully\\n{str(e)}\"\n",
    "        )\n",
    "\n",
    "\n",
    "def create_user_access_key(iam_user_name: str, aws_region: str) -> None:\n",
    "    \"\"\"Create IAM access key for user.\"\"\"\n",
    "    iam_client = boto3.client(\"iam\", region_name=aws_region)\n",
    "    key_creation_response = iam_client.create_access_key(\n",
    "        UserName=iam_user_name,\n",
    "    )\n",
    "    try:\n",
    "        http_code = key_creation_response[\"ResponseMetadata\"][\n",
    "            \"HTTPStatusCode\"\n",
    "        ]\n",
    "        assert http_code == 200\n",
    "        print(\n",
    "            f\"Created IAM access key for user {iam_user_name} \"\n",
    "            \"successfully\"\n",
    "        )\n",
    "    except AssertionError as e:\n",
    "        print(\n",
    "            f\"Could not create IAM access key for user \"\n",
    "            f\"{iam_user_name} successfully\\n{str(e)}\"\n",
    "        )"
   ]
  },
  {
   "cell_type": "markdown",
   "id": "661f43c2-a92a-4e40-a15d-7affb9c27af9",
   "metadata": {},
   "source": [
    "Define helper functions to manage Coiled resources"
   ]
  },
  {
   "cell_type": "code",
   "execution_count": null,
   "id": "11ce3f55-41ce-402b-b26c-fcbbde3fe2e7",
   "metadata": {},
   "outputs": [],
   "source": [
    "def list_coiled_software_envs() -> List[Dict[str, Union[int, str]]]:\n",
    "    \"\"\"Get list of all Coiled software environments and installed packages.\"\"\"\n",
    "    dfs_se = []\n",
    "    for k, v in coiled.list_software_environments().items():\n",
    "        se_info = coiled.get_software_info(k)\n",
    "        latest_spec = v['latest_spec']\n",
    "        latest_build = latest_spec['latest_build']\n",
    "        state, reason, gpu, latest_build_id, latest_spec_id = [\n",
    "            latest_build['state'],\n",
    "            latest_build['reason'],\n",
    "            latest_spec['gpu_enabled'],\n",
    "            latest_build['id'],\n",
    "            latest_spec['id'],\n",
    "        ]\n",
    "        se_dict = dict(\n",
    "            name=k,\n",
    "            alias_id=v['id'],\n",
    "            state=state,\n",
    "            reason=reason,\n",
    "            gpu_enabled=gpu,\n",
    "            id=latest_spec_id,\n",
    "            created=latest_spec['created'],\n",
    "            updated=latest_spec['updated'],\n",
    "            container_uri=latest_spec['container_uri'],\n",
    "            architecture=latest_spec['architecture'],\n",
    "            latest_build_id=latest_build_id,\n",
    "        )\n",
    "        info_dict = {\n",
    "            k:v\n",
    "            for k,v in coiled.get_software_info(se_record['name']).items()\n",
    "            if k in [\n",
    "                'id',\n",
    "                'alias_id',\n",
    "                'gpu_enabled',\n",
    "                'latest_build_id',\n",
    "                'created',\n",
    "                'updated',\n",
    "                'container_uri',\n",
    "                'architecture',\n",
    "                'raw_pip',\n",
    "            ]\n",
    "        }\n",
    "        se_dict.update(info_dict)\n",
    "        dfs_se.append(\n",
    "            pl.DataFrame(se_dict)\n",
    "            .with_columns([pl.lit(True).alias('in_software_env')])\n",
    "        )\n",
    "    df = pl.concat(dfs_se)\n",
    "    return df"
   ]
  },
  {
   "cell_type": "markdown",
   "id": "22697808-e6fe-4287-b4ff-8e268bac4047",
   "metadata": {},
   "source": [
    "## Setup Cloud Storage (AWS)"
   ]
  },
  {
   "cell_type": "code",
   "execution_count": null,
   "id": "f478b378-a55f-46e8-9d52-930a7016cac4",
   "metadata": {},
   "outputs": [],
   "source": [
    "def change_s3_bucket_state(\n",
    "    s3_bucket_name: str,\n",
    "    aws_region: str = \"us-east-2\",\n",
    "    acl: str = \"private\",\n",
    "    state: str = \"present\",\n",
    ") -> None:\n",
    "    \"\"\"Create S3 bucket.\"\"\"\n",
    "    s3_client = boto3.client(\"s3\", region_name=aws_region)\n",
    "    bucket_names = [b[\"Name\"] for b in s3_client.list_buckets()[\"Buckets\"]]\n",
    "    if state == \"present\":\n",
    "        if s3_bucket_name not in bucket_names:\n",
    "            bucket_state_change_response = s3_client.create_bucket(\n",
    "                ACL=acl,\n",
    "                Bucket=s3_bucket_name,\n",
    "                CreateBucketConfiguration={\"LocationConstraint\": aws_region},\n",
    "            )\n",
    "            try:\n",
    "                assert (\n",
    "                    bucket_state_change_response[\"ResponseMetadata\"][\n",
    "                        \"HTTPStatusCode\"\n",
    "                    ]\n",
    "                    == 200\n",
    "                )\n",
    "                print(f\"Bucket {s3_bucket_name} created successfully\")\n",
    "            except AssertionError as e:\n",
    "                print(\n",
    "                    f\"Bucket {s3_bucket_name} not created successfully. \"\n",
    "                    f\"Got error message:\\n{e}\"\n",
    "                )\n",
    "        else:\n",
    "            print(f\"Found existing bucket {s3_bucket_name}\")\n",
    "    else:\n",
    "        if s3_bucket_name not in bucket_names:\n",
    "            bucket_state_change_response = s3_client.delete_bucket(\n",
    "                Bucket=s3_bucket_name\n",
    "            )\n",
    "        else:\n",
    "            print(f\"Bucket {s3_bucket_name} does not exist\")\n",
    "\n",
    "\n",
    "def block_public_access_to_s3_bucket(\n",
    "    s3_bucket_name: str,\n",
    "    aws_region: str = \"us-east-2\",\n",
    ") -> None:\n",
    "    \"\"\"Block access to S3 bucket.\"\"\"\n",
    "    s3_client = boto3.client(\"s3\", region_name=aws_region)\n",
    "    set_public_access_response = s3_client.put_public_access_block(\n",
    "        Bucket=s3_bucket_name,\n",
    "        PublicAccessBlockConfiguration={\n",
    "            \"BlockPublicAcls\": True,\n",
    "            \"IgnorePublicAcls\": True,\n",
    "            \"BlockPublicPolicy\": True,\n",
    "            \"RestrictPublicBuckets\": True,\n",
    "        },\n",
    "    )\n",
    "    try:\n",
    "        http_status_code = set_public_access_response[\"ResponseMetadata\"][\n",
    "            \"HTTPStatusCode\"\n",
    "        ]\n",
    "        assert http_status_code == 200\n",
    "        print(f\"Bucket {s3_bucket_name} access blocked successfully\")\n",
    "    except AssertionError as e:\n",
    "        print(\n",
    "            f\"Bucket {s3_bucket_name} access was not successfully blocked. \"\n",
    "            f\"Got error message:\\n{e}\"\n",
    "        )"
   ]
  },
  {
   "cell_type": "code",
   "execution_count": null,
   "id": "956400f6-c400-471c-a29e-67bbaab017ea",
   "metadata": {},
   "outputs": [],
   "source": [
    "%%time\n",
    "change_s3_bucket_state(s3_bucket_name, aws_region, \"private\", \"present\")"
   ]
  },
  {
   "cell_type": "code",
   "execution_count": null,
   "id": "2d34bc42-afb8-4769-8235-94f867e23cf2",
   "metadata": {},
   "outputs": [],
   "source": [
    "%%time\n",
    "block_public_access_to_s3_bucket(s3_bucket_name, aws_region)"
   ]
  },
  {
   "cell_type": "markdown",
   "id": "8dd7e2c2-c94d-4a40-be0d-863d34d7eda9",
   "metadata": {},
   "source": [
    "## Setup Coiled Cloud Provider (AWS)"
   ]
  },
  {
   "cell_type": "markdown",
   "id": "de1fadae-444c-4607-9b7f-9611070a75a2",
   "metadata": {},
   "source": [
    "### Create IAM Role"
   ]
  },
  {
   "cell_type": "code",
   "execution_count": null,
   "id": "d5fe4fd2-ad77-40b7-975b-c0e480f851ab",
   "metadata": {},
   "outputs": [],
   "source": [
    "%%time\n",
    "create_iam_role(aws_region=aws_region, **coiled_iam_role)"
   ]
  },
  {
   "cell_type": "markdown",
   "id": "05d1dbf7-f2f3-401b-bd6f-9b97193891b3",
   "metadata": {},
   "source": [
    "### Create IAM Policies"
   ]
  },
  {
   "cell_type": "markdown",
   "id": "5f14b1c6-77ad-4ef0-a6ba-b0c1fa8023d8",
   "metadata": {},
   "source": [
    "Coiled instance policy"
   ]
  },
  {
   "cell_type": "code",
   "execution_count": null,
   "id": "b1759a72-f2a5-48e4-a100-577e875bb855",
   "metadata": {},
   "outputs": [],
   "source": [
    "%%time\n",
    "create_iam_policy(aws_region=aws_region, **coiled_iam_instance_policy)"
   ]
  },
  {
   "cell_type": "markdown",
   "id": "db73b727-6bb8-4c7a-80a0-51da75b03e3f",
   "metadata": {},
   "source": [
    "Coiled setup policy"
   ]
  },
  {
   "cell_type": "code",
   "execution_count": null,
   "id": "fd88c514-987e-4e05-8a2e-a197b9b8fc66",
   "metadata": {},
   "outputs": [],
   "source": [
    "%%time\n",
    "create_iam_policy(aws_region=aws_region, **coiled_iam_setup_policy)"
   ]
  },
  {
   "cell_type": "markdown",
   "id": "f2046045-af7a-4381-9b3d-7543458fe63a",
   "metadata": {},
   "source": [
    "Coiled ongoing policy"
   ]
  },
  {
   "cell_type": "code",
   "execution_count": null,
   "id": "b78ca671-67ab-48d9-99ee-a46de08c5eef",
   "metadata": {},
   "outputs": [],
   "source": [
    "%%time\n",
    "create_iam_policy(aws_region=aws_region, **coiled_iam_ongoing_policy)"
   ]
  },
  {
   "cell_type": "markdown",
   "id": "6c25a938-baff-46b2-ad02-d7eb8b4f6ac7",
   "metadata": {},
   "source": [
    "### Create IAM User"
   ]
  },
  {
   "cell_type": "code",
   "execution_count": null,
   "id": "a5eae0cd-3a4c-4fad-b503-193e90dec61b",
   "metadata": {},
   "outputs": [],
   "source": [
    "%%time\n",
    "create_iam_user(aws_region=aws_region, **coiled_iam_user)"
   ]
  },
  {
   "cell_type": "markdown",
   "id": "3ee8184a-b801-4723-95b0-5c9ee1ee4691",
   "metadata": {},
   "source": [
    "### Attach IAM Policies to IAM Role"
   ]
  },
  {
   "cell_type": "markdown",
   "id": "0067c633-75f6-4a92-badf-89bf89993f47",
   "metadata": {},
   "source": [
    "Coiled instance policy"
   ]
  },
  {
   "cell_type": "code",
   "execution_count": null,
   "id": "53b019e8-e45e-4955-942b-6229c7f5b536",
   "metadata": {},
   "outputs": [],
   "source": [
    "%%time\n",
    "attach_iam_policy_to_iam_role(\n",
    "    policy_name=coiled_iam_instance_policy['policy_name'],\n",
    "    iam_role_name=coiled_iam_role['role_name'],\n",
    "    aws_region=aws_region,\n",
    "    max_items=123,\n",
    ")"
   ]
  },
  {
   "cell_type": "markdown",
   "id": "e8fd937f-e610-4ae7-b7dc-c80e9f659817",
   "metadata": {},
   "source": [
    "Access to S3 bucket"
   ]
  },
  {
   "cell_type": "code",
   "execution_count": null,
   "id": "c1f38809-2567-4753-a171-f2ba50ad827e",
   "metadata": {},
   "outputs": [],
   "source": [
    "%%time\n",
    "attach_iam_policy_to_iam_role(\n",
    "    policy_name='AmazonS3FullAccess',\n",
    "    iam_role_name=coiled_iam_role['role_name'],\n",
    "    aws_region=aws_region,\n",
    "    max_items=1000,\n",
    ")"
   ]
  },
  {
   "cell_type": "markdown",
   "id": "f0a40365-3298-4360-85cb-3c18fca7270b",
   "metadata": {},
   "source": [
    "### Attach IAM Policies to IAM User"
   ]
  },
  {
   "cell_type": "markdown",
   "id": "18fa1aae-9014-4db5-92a1-fe421b22c510",
   "metadata": {},
   "source": [
    "Coiled setup policy"
   ]
  },
  {
   "cell_type": "code",
   "execution_count": null,
   "id": "1f66e433-d39b-4b2e-ae3e-28db646bca93",
   "metadata": {},
   "outputs": [],
   "source": [
    "%%time\n",
    "attach_iam_policy_to_iam_user(\n",
    "    policy_name=coiled_iam_setup_policy['policy_name'],\n",
    "    iam_user_name=coiled_iam_user['user_name'],\n",
    "    aws_region=aws_region,\n",
    "    max_items=123,\n",
    ")"
   ]
  },
  {
   "cell_type": "markdown",
   "id": "614423e8-7cc9-4342-99f9-c32ab0d45d1d",
   "metadata": {},
   "source": [
    "Coiled ongoing policy"
   ]
  },
  {
   "cell_type": "code",
   "execution_count": null,
   "id": "8bc65b5f-399d-4caa-b783-7a4da0efa94a",
   "metadata": {},
   "outputs": [],
   "source": [
    "%%time\n",
    "attach_iam_policy_to_iam_user(\n",
    "    policy_name=coiled_iam_ongoing_policy['policy_name'],\n",
    "    iam_user_name=coiled_iam_user['user_name'],\n",
    "    aws_region=aws_region,\n",
    "    max_items=123,\n",
    ")"
   ]
  },
  {
   "cell_type": "markdown",
   "id": "92351e22-edc3-4f52-94a4-b1d127ec91e0",
   "metadata": {},
   "source": [
    "### Create IAM Access Key for IAM User"
   ]
  },
  {
   "cell_type": "code",
   "execution_count": null,
   "id": "74b01760-6a2f-4189-b3b9-9c0aabbbba58",
   "metadata": {},
   "outputs": [],
   "source": [
    "%%time\n",
    "create_user_access_key(coiled_iam_user['user_name'], aws_region)"
   ]
  },
  {
   "cell_type": "markdown",
   "id": "6695b4eb-4e38-490f-b6e9-6209453216a6",
   "metadata": {},
   "source": [
    "**Notes**\n",
    "\n",
    "1. This step is ignored by `coiled setup aws ...` which creates its own access key for the IAM user."
   ]
  },
  {
   "cell_type": "markdown",
   "id": "30de70e7-d084-456a-b3b2-fb047b8214bc",
   "metadata": {},
   "source": [
    "## Manage Coiled Software Environment(s)"
   ]
  },
  {
   "cell_type": "markdown",
   "id": "93662e37-0e21-4284-a8ac-6c733e61b94f",
   "metadata": {},
   "source": [
    "### List"
   ]
  },
  {
   "cell_type": "markdown",
   "id": "dd07e382-8c5c-4da7-b845-4c70c159155c",
   "metadata": {},
   "source": [
    "Get list of software environments and installed packages"
   ]
  },
  {
   "cell_type": "code",
   "execution_count": null,
   "id": "809f6503-c092-431c-8e2f-fde43a294b96",
   "metadata": {},
   "outputs": [],
   "source": [
    "%%time\n",
    "list_coiled_software_envs()"
   ]
  },
  {
   "cell_type": "markdown",
   "id": "108cf9dc-9d1d-412a-b0cc-b3929aabb91d",
   "metadata": {},
   "source": [
    "### Create"
   ]
  },
  {
   "cell_type": "code",
   "execution_count": null,
   "id": "b711b73f-5a68-458e-8dc1-6b2c1caeaa45",
   "metadata": {},
   "outputs": [],
   "source": [
    "%%time\n",
    "coiled.create_software_environment(\n",
    "    name=coiled_se_name,\n",
    "    pip=\"requirements_coiled.txt\",\n",
    ")"
   ]
  },
  {
   "cell_type": "markdown",
   "id": "53d11454-c770-414c-a49d-97decedcf6c7",
   "metadata": {},
   "source": [
    "### List"
   ]
  },
  {
   "cell_type": "markdown",
   "id": "d39decdc-a949-497f-bdfe-128c949e8014",
   "metadata": {},
   "source": [
    "Get list of software environments and installed packages"
   ]
  },
  {
   "cell_type": "code",
   "execution_count": null,
   "id": "fbfad981-5f47-4aa4-adb6-298ec277e756",
   "metadata": {},
   "outputs": [],
   "source": [
    "%%time\n",
    "df_se = list_coiled_software_envs()\n",
    "df_se"
   ]
  },
  {
   "cell_type": "markdown",
   "id": "db64df54-89ec-40ad-b2e0-193c234015f0",
   "metadata": {},
   "source": [
    "For single software environment, compare installed packages to those in `requirements.txt`"
   ]
  },
  {
   "cell_type": "code",
   "execution_count": null,
   "id": "5b61f011-cf92-4029-9ca9-822213e3be67",
   "metadata": {},
   "outputs": [],
   "source": [
    "%%time\n",
    "df_se_reqs = (\n",
    "    pl.read_csv(\n",
    "        os.path.join(nb_dir_path, 'requirements.txt'),\n",
    "        has_header=False,\n",
    "        new_columns=['package'],\n",
    "    )\n",
    "    .with_columns(\n",
    "        [\n",
    "            pl.lit(coiled_se_name).alias('name'),\n",
    "            pl.lit(True).alias('in_requirements_txt')\n",
    "        ]\n",
    "    )\n",
    "    .join(\n",
    "        df_se,\n",
    "        left_on=['name', 'package'],\n",
    "        right_on=['name', 'raw_pip'],\n",
    "        how='outer',\n",
    "    )\n",
    "    .with_columns(\n",
    "        [\n",
    "            pl.col('in_software_env').fill_null(False),\n",
    "            pl.col('in_requirements_txt').fill_null(False),\n",
    "        ]\n",
    "    )\n",
    ")\n",
    "df_se_reqs"
   ]
  },
  {
   "cell_type": "markdown",
   "id": "fe4ddc7a-74b8-459d-a9fe-019e395d1ee7",
   "metadata": {},
   "source": [
    "### Delete"
   ]
  },
  {
   "cell_type": "code",
   "execution_count": null,
   "id": "6ebdad88-507a-4b4f-8d40-f0cac651f26d",
   "metadata": {},
   "outputs": [],
   "source": [
    "coiled.delete_software_environment(name=coiled_se_name)"
   ]
  },
  {
   "cell_type": "markdown",
   "id": "2fe8b260-8533-4080-9c10-d0273baec57e",
   "metadata": {},
   "source": [
    "### List"
   ]
  },
  {
   "cell_type": "markdown",
   "id": "5b6b2983-33b8-4540-8b52-b0b160dc8d40",
   "metadata": {},
   "source": [
    "Get list of software environments and installed packages"
   ]
  },
  {
   "cell_type": "code",
   "execution_count": null,
   "id": "9fe16bce-7e9c-4480-a6eb-6787e7ffef24",
   "metadata": {},
   "outputs": [],
   "source": [
    "%%time\n",
    "list_coiled_software_envs()"
   ]
  },
  {
   "cell_type": "markdown",
   "id": "e4e3ac2e-7444-4523-ae7d-e631ddbcd866",
   "metadata": {},
   "source": [
    "## Links"
   ]
  },
  {
   "cell_type": "markdown",
   "id": "b0b73dfe-32d9-4f71-8bc9-dd4cf4cb48e3",
   "metadata": {},
   "source": [
    "1. `boto3`\n",
    "   - [Manage IAM Access Keys](https://boto3.amazonaws.com/v1/documentation/api/latest/guide/iam-example-managing-access-keys.html)\n",
    "2. Coiled\n",
    "   - Set up Coiled cloud provider\n",
    "     - Automatic setup\n",
    "       - [full docs](https://docs.coiled.io/user_guide/setup/aws/cli.html#automatic-setup)\n",
    "       - [keyword arguments](https://docs.coiled.io/user_guide/setup/aws/cli.html#coiled-setup-aws)\n",
    "     - Manual setup\n",
    "       - [full docs](https://docs.coiled.io/user_guide/setup/aws/manual.html#manual-setup)\n",
    "       - [required IAM policies to be assigned to IAM user](https://docs.coiled.io/user_guide/setup/aws/manual.html#create-iam-policies)\n",
    "   - Manage Coiled software environment(s)\n",
    "     - [full docs](https://docs.coiled.io/user_guide/software/manual.html#manual-software-environments)"
   ]
  }
 ],
 "metadata": {
  "kernelspec": {
   "display_name": "Python 3 (ipykernel)",
   "language": "python",
   "name": "python3"
  },
  "language_info": {
   "codemirror_mode": {
    "name": "ipython",
    "version": 3
   },
   "file_extension": ".py",
   "mimetype": "text/x-python",
   "name": "python",
   "nbconvert_exporter": "python",
   "pygments_lexer": "ipython3",
   "version": "3.10.12"
  }
 },
 "nbformat": 4,
 "nbformat_minor": 5
}
