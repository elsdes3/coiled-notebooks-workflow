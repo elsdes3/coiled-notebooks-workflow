{
 "cells": [
  {
   "cell_type": "markdown",
   "id": "273a43ac-564e-4718-aa6e-6f4908890f25",
   "metadata": {},
   "source": [
    "# Coiled Notebooks"
   ]
  },
  {
   "cell_type": "code",
   "execution_count": 1,
   "id": "c0a96031-f4ae-46f8-aa22-7f401e88355c",
   "metadata": {},
   "outputs": [],
   "source": [
    "import os\n",
    "\n",
    "import boto3\n",
    "import polars as pl\n",
    "import requests\n",
    "import s3fs\n",
    "from IPython.display import display, HTML"
   ]
  },
  {
   "cell_type": "code",
   "execution_count": 2,
   "id": "30a60560-6bbd-44c0-b9b5-339d5fd0f878",
   "metadata": {},
   "outputs": [
    {
     "data": {
      "text/html": [
       "<style>.jp-OutputArea-output {display:flex}</style>"
      ],
      "text/plain": [
       "<IPython.core.display.HTML object>"
      ]
     },
     "metadata": {},
     "output_type": "display_data"
    }
   ],
   "source": [
    "display(HTML(\"<style>.jp-OutputArea-output {display:flex}</style>\"))"
   ]
  },
  {
   "cell_type": "markdown",
   "id": "af5484a9-5067-4ac1-b77b-cf6a152976cd",
   "metadata": {},
   "source": [
    "## About"
   ]
  },
  {
   "cell_type": "markdown",
   "id": "e24922d0-5834-48ee-966e-d8a2971a1e68",
   "metadata": {},
   "source": [
    "Coiled notebooks demo from [this Coiled webinar](https://youtu.be/s4Ge6QICz98?si=NCOYt27i_rOkQpFD&t=508)."
   ]
  },
  {
   "cell_type": "markdown",
   "id": "532e27f7-56b5-4ec0-ab8f-119ba41ec4aa",
   "metadata": {},
   "source": [
    "## User Inputs"
   ]
  },
  {
   "cell_type": "code",
   "execution_count": 3,
   "id": "493ccea5-48a4-4f02-86b8-8e67e3f268a2",
   "metadata": {},
   "outputs": [],
   "source": [
    "url = \"s3://nyc-tlc/trip data/\""
   ]
  },
  {
   "cell_type": "code",
   "execution_count": 4,
   "id": "57004bfe-f163-4c47-b110-b788a6734a81",
   "metadata": {},
   "outputs": [],
   "source": [
    "dtypes = [\n",
    "    pl.col('vendorid').cast(pl.Int64),\n",
    "    pl.col('passenger_count').cast(pl.Int64),\n",
    "    pl.col('trip_distance').cast(pl.Float64),\n",
    "    pl.col('ratecodeid').cast(pl.Int64),\n",
    "    pl.col('pulocationid').cast(pl.Int64),\n",
    "    pl.col('dolocationid').cast(pl.Int64),\n",
    "    pl.col('payment_type').cast(pl.Int64),\n",
    "    pl.col('fare_amount').cast(pl.Float64),\n",
    "    pl.col('extra').cast(pl.Float64),\n",
    "    pl.col('mta_tax').cast(pl.Float64),\n",
    "    pl.col('tip_amount').cast(pl.Float64),\n",
    "    pl.col('tolls_amount').cast(pl.Float64),\n",
    "    pl.col('improvement_surcharge').cast(pl.Float64),\n",
    "    pl.col('total_amount').cast(pl.Float64),\n",
    "    pl.col('congestion_surcharge').cast(pl.Float64),\n",
    "    pl.col('airport_fee').cast(pl.Float64),\n",
    "]"
   ]
  },
  {
   "cell_type": "markdown",
   "id": "27e6ba5e-3dea-4c10-91eb-bf2a099f3a72",
   "metadata": {},
   "source": [
    "Show parent directory"
   ]
  },
  {
   "cell_type": "code",
   "execution_count": 5,
   "id": "dc2ea6e4-a4be-41c2-8bc7-756b4f5409e5",
   "metadata": {},
   "outputs": [
    {
     "data": {
      "text/plain": [
       "'/scratch/synced'"
      ]
     },
     "execution_count": 5,
     "metadata": {},
     "output_type": "execute_result"
    }
   ],
   "source": [
    "os.path.abspath(os.pardir)"
   ]
  },
  {
   "cell_type": "markdown",
   "id": "e0a41014-cedf-456d-b0bc-3a42692e3b72",
   "metadata": {},
   "source": [
    "List buckets"
   ]
  },
  {
   "cell_type": "code",
   "execution_count": 6,
   "id": "1813d2bb-df09-4e37-a289-383d70bec42f",
   "metadata": {},
   "outputs": [
    {
     "data": {
      "text/plain": [
       "[{'Name': 'oss-shared-scratchp',\n",
       "  'CreationDate': datetime.datetime(2023, 9, 28, 3, 41, 18, tzinfo=tzlocal())}]"
      ]
     },
     "execution_count": 6,
     "metadata": {},
     "output_type": "execute_result"
    }
   ],
   "source": [
    "s3_client = boto3.client('s3')\n",
    "s3_client.list_buckets()['Buckets']"
   ]
  },
  {
   "cell_type": "markdown",
   "id": "87f65ed5-bc5b-4c41-bb4d-14a92f09bbee",
   "metadata": {},
   "source": [
    "## Get Data"
   ]
  },
  {
   "cell_type": "markdown",
   "id": "ee36a2f1-c0ab-4567-bddc-ebb9a532cb7c",
   "metadata": {},
   "source": [
    "### Get Data Filepaths"
   ]
  },
  {
   "cell_type": "code",
   "execution_count": 7,
   "id": "699930e7-9ae0-4420-b1e4-7cb9f00faa56",
   "metadata": {},
   "outputs": [],
   "source": [
    "s3 = s3fs.S3FileSystem()"
   ]
  },
  {
   "cell_type": "code",
   "execution_count": 8,
   "id": "8ceece6d-74a8-41de-8ea8-3a756fe10b42",
   "metadata": {},
   "outputs": [
    {
     "data": {
      "text/plain": [
       "['nyc-tlc/trip data/',\n",
       " 'nyc-tlc/trip data/fhv_tripdata_2015-01.parquet',\n",
       " 'nyc-tlc/trip data/fhv_tripdata_2015-02.parquet',\n",
       " 'nyc-tlc/trip data/fhv_tripdata_2015-03.parquet',\n",
       " 'nyc-tlc/trip data/fhv_tripdata_2015-04.parquet']"
      ]
     },
     "execution_count": 8,
     "metadata": {},
     "output_type": "execute_result"
    }
   ],
   "source": [
    "filenames_raw = s3.ls(url)\n",
    "filenames_raw[0:5]"
   ]
  },
  {
   "cell_type": "code",
   "execution_count": 9,
   "id": "94eaf225-e432-4a91-9061-49af18fbc785",
   "metadata": {},
   "outputs": [
    {
     "data": {
      "text/plain": [
       "['s3://nyc-tlc/trip data/yellow_tripdata_2023-01.parquet']"
      ]
     },
     "execution_count": 9,
     "metadata": {},
     "output_type": "execute_result"
    }
   ],
   "source": [
    "filenames = sorted(\n",
    "    [\n",
    "        os.path.join(\"s3://\", f) for f in filenames_raw\n",
    "        if \"yellow_tripdata_2023\" in f\n",
    "    ]\n",
    ")\n",
    "filenames = [filenames[0]]\n",
    "filenames"
   ]
  },
  {
   "cell_type": "markdown",
   "id": "87800287-4adf-41d8-82e8-8b26660892bb",
   "metadata": {},
   "source": [
    "### Run ETL Pipeline"
   ]
  },
  {
   "cell_type": "code",
   "execution_count": 10,
   "id": "877a6a62-dcf3-4921-8416-05732f743987",
   "metadata": {},
   "outputs": [
    {
     "name": "stdout",
     "output_type": "stream",
     "text": [
      "Exported 2,372,009 rows from yellow_tripdata_2023-01.parquet to s3://oss-shared-scratchp/raw/yellow_tripdata_2023_01.parquet.gzip\n",
      "CPU times: user 6.97 s, sys: 727 ms, total: 7.7 s\n",
      "Wall time: 7.42 s\n"
     ]
    }
   ],
   "source": [
    "%%time\n",
    "for filename in filenames:\n",
    "    df = (\n",
    "        # extract\n",
    "        pl.read_parquet(filename)\n",
    "        # transform\n",
    "        .select(\n",
    "            pl.all()\n",
    "            .map_alias(\n",
    "                lambda col_name: col_name.replace('.', '_').lower()\n",
    "            )\n",
    "        )\n",
    "        .with_columns([*dtypes])\n",
    "        .filter((pl.col('tip_amount') != 0))\n",
    "    )\n",
    "\n",
    "    m = os.path.splitext(filename)[0].split('-', -1)[-1]\n",
    "    fpath_out = (\n",
    "        os.path.join(\n",
    "            \"s3://oss-shared-scratchp/raw\",\n",
    "            f\"{filename.split('/')[-1].replace('-', '_')}.gzip\"\n",
    "        )\n",
    "    )\n",
    "\n",
    "    # load\n",
    "    df.write_parquet(fpath_out, compression='gzip', use_pyarrow=True)\n",
    "    print(f\"Exported {len(df):,} rows from {os.path.basename(filename)} to {fpath_out}\")"
   ]
  }
 ],
 "metadata": {
  "kernelspec": {
   "display_name": "Python 3 (ipykernel)",
   "language": "python",
   "name": "python3"
  },
  "language_info": {
   "codemirror_mode": {
    "name": "ipython",
    "version": 3
   },
   "file_extension": ".py",
   "mimetype": "text/x-python",
   "name": "python",
   "nbconvert_exporter": "python",
   "pygments_lexer": "ipython3",
   "version": "3.10.12"
  }
 },
 "nbformat": 4,
 "nbformat_minor": 5
}
